{
 "cells": [
  {
   "cell_type": "code",
   "execution_count": null,
   "source": [
    "import numpy as np\n",
    "import pandas as pd\n",
    "from pathlib import Path\n",
    "from sklearn.linear_model import LogisticRegression\n",
    "from sklearn.ensemble import RandomForestClassifier\n",
    "from sklearn.preprocessing import StandardScaler\n",
    "from sklearn.metrics import confusion_matrix"
   ],
   "outputs": [],
   "metadata": {}
  },
  {
   "cell_type": "code",
   "execution_count": null,
   "source": [
    "train_df = pd.read_csv(Path('Resources/2019loans.csv'))\n",
    "test_df = pd.read_csv(Path('Resources/2020Q1loans.csv'))"
   ],
   "outputs": [],
   "metadata": {}
  },
  {
   "cell_type": "code",
   "execution_count": null,
   "source": [
    "train_df.head()"
   ],
   "outputs": [],
   "metadata": {}
  },
  {
   "cell_type": "code",
   "execution_count": null,
   "source": [
    "train_df.info()"
   ],
   "outputs": [],
   "metadata": {}
  },
  {
   "cell_type": "code",
   "execution_count": null,
   "source": [
    "test_df.head()"
   ],
   "outputs": [],
   "metadata": {}
  },
  {
   "cell_type": "code",
   "execution_count": null,
   "source": [
    "# Convert categorical data to numeric and separate target feature for training data\n",
    "X_train = train_df.drop(columns=['target'])\n",
    "y_train = train_df['target']\n",
    "X_train_dummies = pd.get_dummies(X_train)\n",
    "X_train_dummies.head()"
   ],
   "outputs": [],
   "metadata": {}
  },
  {
   "cell_type": "code",
   "execution_count": null,
   "source": [
    "# Convert categorical data to numeric and separate target feature for testing data\n",
    "X_test = test_df.drop(columns=['target'])\n",
    "y_test = test_df['target']\n",
    "X_test_dummies = pd.get_dummies(X_test)\n",
    "X_test_dummies.head()"
   ],
   "outputs": [],
   "metadata": {}
  },
  {
   "cell_type": "code",
   "execution_count": null,
   "source": [
    "# add missing dummy variables to testing set\n",
    "print(X_train_dummies.columns.symmetric_difference(X_test_dummies.columns))\n",
    "X_test_dummies['debt_settlement_flag_Y'] = 0\n",
    "X_test_dummies.head()"
   ],
   "outputs": [],
   "metadata": {}
  },
  {
   "cell_type": "markdown",
   "source": [
    "Prediction: i predict that the proformance of the random forest will not be great when the numerical features test outside of the range of training data. however the logistic regression will preform well even if the data isnt scaled for the range of training data. due to this, i would say, unscaled data is best with logistic regression in replacement of random forest."
   ],
   "metadata": {}
  },
  {
   "cell_type": "code",
   "execution_count": null,
   "source": [
    "# Train the Logistic Regression model on the unscaled data and print the model score\n",
    "lr1 = LogisticRegression(max_iter=10000).fit(X_train_dummies, y_train)\n",
    "print(f\"Training Data Score: {lr1.score(X_train_dummies, y_train)}\")\n",
    "print(f\"Testing Data Score: {lr1.score(X_test_dummies, y_test)}\")"
   ],
   "outputs": [],
   "metadata": {}
  },
  {
   "cell_type": "code",
   "execution_count": null,
   "source": [
    "# Train a Random Forest Classifier model and print the model score\n",
    "rf1 = RandomForestClassifier(random_state=42).fit(X_train_dummies, y_train)\n",
    "print(f\"Training Data Score: {rf1.score(X_train_dummies, y_train)}\")\n",
    "print(f\"Testing Data Score: {rf1.score(X_test_dummies, y_test)}\")"
   ],
   "outputs": [],
   "metadata": {}
  },
  {
   "cell_type": "code",
   "execution_count": null,
   "source": [
    "lr1_y_pred = lr1.predict(X_test_dummies)\n",
    "rf1_y_pred = rf1.predict(X_test_dummies)\n",
    "\n",
    "print(\"Logistic Regression Confusion Matrix:\")\n",
    "print(confusion_matrix(y_test, lr1_y_pred, labels = [\"high_risk\", \"low_risk\"], normalize = \"all\"))\n",
    "print(\"Random Forest Classifier Confusion Matrix:\")\n",
    "print(confusion_matrix(y_test, rf1_y_pred, labels = [\"high_risk\", \"low_risk\"], normalize = \"all\"))"
   ],
   "outputs": [],
   "metadata": {}
  },
  {
   "cell_type": "markdown",
   "source": [
    "Results:\n",
    "it seems as though the logisitc regression with unscaled data did outpreform random forest. "
   ],
   "metadata": {}
  },
  {
   "cell_type": "markdown",
   "source": [
    "scaled data Prediction:\n",
    "it is my prediction that logicsitc regresssion will preform better than random forest with this scaled data "
   ],
   "metadata": {}
  },
  {
   "cell_type": "code",
   "execution_count": null,
   "source": [
    "# Scale the data\n",
    "scaler = StandardScaler().fit(X_train_dummies)\n",
    "X_train_scaled = scaler.transform(X_train_dummies)\n",
    "X_test_scaled = scaler.transform(X_test_dummies)"
   ],
   "outputs": [],
   "metadata": {}
  },
  {
   "cell_type": "code",
   "execution_count": null,
   "source": [
    "# Train the Logistic Regression model on the scaled data and print the model score\n",
    "lr2 = LogisticRegression(max_iter=10000).fit(X_train_scaled, y_train)\n",
    "print(f\"Training Data Score: {lr2.score(X_train_scaled, y_train)}\")\n",
    "print(f\"Testing Data Score: {lr2.score(X_test_scaled, y_test)}\")"
   ],
   "outputs": [],
   "metadata": {}
  },
  {
   "cell_type": "code",
   "execution_count": null,
   "source": [
    "# Train a Random Forest Classifier model on the scaled data and print the model score\n",
    "rf2 = RandomForestClassifier().fit(X_train_scaled, y_train)\n",
    "print(f\"Training Data Score: {rf2.score(X_train_scaled, y_train)}\")\n",
    "print(f\"Testing Data Score: {rf2.score(X_test_scaled, y_test)}\")"
   ],
   "outputs": [],
   "metadata": {}
  },
  {
   "cell_type": "code",
   "execution_count": null,
   "source": [
    "lr2_y_pred = lr2.predict(X_test_scaled)\n",
    "rf2_y_pred = rf2.predict(X_test_scaled)\n",
    "\n",
    "print(\"Logistic Regression Confusion Matrix:\")\n",
    "print(confusion_matrix(y_test, lr2_y_pred, labels = [\"high_risk\", \"low_risk\"], normalize = \"all\"))\n",
    "print(\"Random Forest Classifier Confusion Matrix:\")\n",
    "print(confusion_matrix(y_test, rf2_y_pred, labels = [\"high_risk\", \"low_risk\"], normalize = \"all\"))"
   ],
   "outputs": [],
   "metadata": {}
  },
  {
   "cell_type": "markdown",
   "source": [
    "Results: the scaled data preforming with logistic regression was correct "
   ],
   "metadata": {}
  }
 ],
 "metadata": {
  "orig_nbformat": 4,
  "language_info": {
   "name": "python",
   "version": "3.9.7",
   "mimetype": "text/x-python",
   "codemirror_mode": {
    "name": "ipython",
    "version": 3
   },
   "pygments_lexer": "ipython3",
   "nbconvert_exporter": "python",
   "file_extension": ".py"
  },
  "kernelspec": {
   "name": "python3",
   "display_name": "Python 3.9.7 64-bit"
  },
  "interpreter": {
   "hash": "50292dbb1f747f7151d445135d392af3138fb3c65386d17d9510cb605222b10b"
  }
 },
 "nbformat": 4,
 "nbformat_minor": 2
}